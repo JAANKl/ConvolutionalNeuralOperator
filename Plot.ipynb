{
 "cells": [
  {
   "cell_type": "code",
   "execution_count": 6,
   "id": "088323cf-7ab6-4c4a-800b-3728720230db",
   "metadata": {},
   "outputs": [
    {
     "data": {
      "text/plain": [
       "FNO2d(\n",
       "  (act): LeakyReLU(negative_slope=0.01)\n",
       "  (r): Sequential(\n",
       "    (0): Linear(in_features=7, out_features=128, bias=True)\n",
       "    (1): LeakyReLU(negative_slope=0.01)\n",
       "    (2): Linear(in_features=128, out_features=32, bias=True)\n",
       "  )\n",
       "  (conv_list): ModuleList(\n",
       "    (0): Conv2d(32, 32, kernel_size=(1, 1), stride=(1, 1))\n",
       "    (1): Conv2d(32, 32, kernel_size=(1, 1), stride=(1, 1))\n",
       "    (2): Conv2d(32, 32, kernel_size=(1, 1), stride=(1, 1))\n",
       "    (3): Conv2d(32, 32, kernel_size=(1, 1), stride=(1, 1))\n",
       "    (4): Conv2d(32, 32, kernel_size=(1, 1), stride=(1, 1))\n",
       "    (5): Conv2d(32, 32, kernel_size=(1, 1), stride=(1, 1))\n",
       "  )\n",
       "  (spectral_list): ModuleList(\n",
       "    (0): SpectralConv2d()\n",
       "    (1): SpectralConv2d()\n",
       "    (2): SpectralConv2d()\n",
       "    (3): SpectralConv2d()\n",
       "    (4): SpectralConv2d()\n",
       "    (5): SpectralConv2d()\n",
       "  )\n",
       "  (q): Sequential(\n",
       "    (0): Linear(in_features=32, out_features=128, bias=True)\n",
       "    (1): LeakyReLU(negative_slope=0.01)\n",
       "    (2): Linear(in_features=128, out_features=1, bias=True)\n",
       "  )\n",
       ")"
      ]
     },
     "execution_count": 6,
     "metadata": {},
     "output_type": "execute_result"
    }
   ],
   "source": [
    "import torch\n",
    "import torch.nn as nn\n",
    "from torch.utils.data import DataLoader\n",
    "import numpy as np\n",
    "import matplotlib.pyplot as plt\n",
    "from random import randint\n",
    "import h5py\n",
    "import pickle\n",
    "\n",
    "# Assuming the model and data loading utilities are available in the specified modules\n",
    "from Problems.FNOBenchmarks import StrakaBubble, StrakaBubbleDataset, StrakaBubblePlottingDataset\n",
    "from CNOModule import CNO\n",
    "\n",
    "# Set device for computation\n",
    "device = torch.device('cuda' if torch.cuda.is_available() else 'cpu')\n",
    "\n",
    "# Initialize dataset\n",
    "test_dataset = StrakaBubbleDataset(which=\"test\", training_samples=128)\n",
    "test_loader = DataLoader(test_dataset, batch_size=1, shuffle=False)\n",
    "# Path to the saved model\n",
    "model_path = 'TrainedModels/FNO_straka_bubble_test_dt/model.pkl'\n",
    "# model_path = 'TrainedModels/CNO_poisson_paper/model.pkl'\n",
    "\n",
    "# Load the entire model directly\n",
    "model = torch.load(model_path, map_location=torch.device(device))\n",
    "model.eval()"
   ]
  },
  {
   "cell_type": "code",
   "execution_count": 7,
   "id": "b9c27754-bab2-465e-b115-a61df0b572f2",
   "metadata": {},
   "outputs": [
    {
     "ename": "RuntimeError",
     "evalue": "CUDA error: no kernel image is available for execution on the device\nCUDA kernel errors might be asynchronously reported at some other API call,so the stacktrace below might be incorrect.\nFor debugging consider passing CUDA_LAUNCH_BLOCKING=1.",
     "output_type": "error",
     "traceback": [
      "\u001b[0;31m---------------------------------------------------------------------------\u001b[0m",
      "\u001b[0;31mRuntimeError\u001b[0m                              Traceback (most recent call last)",
      "Input \u001b[0;32mIn [7]\u001b[0m, in \u001b[0;36m<cell line: 52>\u001b[0;34m()\u001b[0m\n\u001b[1;32m     50\u001b[0m device \u001b[38;5;241m=\u001b[39m torch\u001b[38;5;241m.\u001b[39mdevice(\u001b[38;5;124m'\u001b[39m\u001b[38;5;124mcuda\u001b[39m\u001b[38;5;124m'\u001b[39m \u001b[38;5;28;01mif\u001b[39;00m torch\u001b[38;5;241m.\u001b[39mcuda\u001b[38;5;241m.\u001b[39mis_available() \u001b[38;5;28;01melse\u001b[39;00m \u001b[38;5;124m'\u001b[39m\u001b[38;5;124mcpu\u001b[39m\u001b[38;5;124m'\u001b[39m)\n\u001b[1;32m     51\u001b[0m test_loader \u001b[38;5;241m=\u001b[39m DataLoader(StrakaBubbleDataset(which\u001b[38;5;241m=\u001b[39m\u001b[38;5;124m\"\u001b[39m\u001b[38;5;124mtraining\u001b[39m\u001b[38;5;124m\"\u001b[39m, training_samples\u001b[38;5;241m=\u001b[39m\u001b[38;5;241m128\u001b[39m), batch_size\u001b[38;5;241m=\u001b[39m\u001b[38;5;241m1\u001b[39m, shuffle\u001b[38;5;241m=\u001b[39m\u001b[38;5;28;01mFalse\u001b[39;00m)\n\u001b[0;32m---> 52\u001b[0m \u001b[43mplot_samples\u001b[49m\u001b[43m(\u001b[49m\u001b[43mtest_loader\u001b[49m\u001b[43m,\u001b[49m\u001b[43m \u001b[49m\u001b[43mmodel\u001b[49m\u001b[43m,\u001b[49m\u001b[43m \u001b[49m\u001b[43mn\u001b[49m\u001b[38;5;241;43m=\u001b[39;49m\u001b[38;5;241;43m10\u001b[39;49m\u001b[43m,\u001b[49m\u001b[43m \u001b[49m\u001b[43mdevice\u001b[49m\u001b[38;5;241;43m=\u001b[39;49m\u001b[43mdevice\u001b[49m\u001b[43m,\u001b[49m\u001b[43m \u001b[49m\u001b[43mcmap\u001b[49m\u001b[38;5;241;43m=\u001b[39;49m\u001b[38;5;124;43m'\u001b[39;49m\u001b[38;5;124;43mcoolwarm\u001b[39;49m\u001b[38;5;124;43m'\u001b[39;49m\u001b[43m,\u001b[49m\u001b[43m \u001b[49m\u001b[43mvmin\u001b[49m\u001b[38;5;241;43m=\u001b[39;49m\u001b[38;5;28;43;01mNone\u001b[39;49;00m\u001b[43m,\u001b[49m\u001b[43m \u001b[49m\u001b[43mvmax\u001b[49m\u001b[38;5;241;43m=\u001b[39;49m\u001b[38;5;28;43;01mNone\u001b[39;49;00m\u001b[43m)\u001b[49m\n",
      "Input \u001b[0;32mIn [7]\u001b[0m, in \u001b[0;36mplot_samples\u001b[0;34m(data_loader, model, n, device, cmap, vmin, vmax)\u001b[0m\n\u001b[1;32m     11\u001b[0m \u001b[38;5;28;01mif\u001b[39;00m i \u001b[38;5;241m==\u001b[39m n:\n\u001b[1;32m     12\u001b[0m     inputs, outputs \u001b[38;5;241m=\u001b[39m inputs\u001b[38;5;241m.\u001b[39mto(device), outputs\u001b[38;5;241m.\u001b[39mto(device)\n\u001b[0;32m---> 13\u001b[0m     predictions \u001b[38;5;241m=\u001b[39m \u001b[43mmodel\u001b[49m\u001b[43m(\u001b[49m\u001b[43minputs\u001b[49m\u001b[43m)\u001b[49m\u001b[38;5;241m.\u001b[39msqueeze(\u001b[38;5;241m1\u001b[39m)  \u001b[38;5;66;03m# Ensure predictions match dimensions\u001b[39;00m\n\u001b[1;32m     15\u001b[0m     \u001b[38;5;66;03m# Correct data extraction and reshaping based on how your dataloader formats the batch\u001b[39;00m\n\u001b[1;32m     16\u001b[0m     x_coords \u001b[38;5;241m=\u001b[39m inputs[\u001b[38;5;241m0\u001b[39m, :, :, \u001b[38;5;241m0\u001b[39m]\u001b[38;5;241m.\u001b[39mcpu()\u001b[38;5;241m.\u001b[39mnumpy()\u001b[38;5;241m.\u001b[39mflatten()  \u001b[38;5;66;03m# Assuming first channel is x-coordinates\u001b[39;00m\n",
      "File \u001b[0;32m~/.local/lib/python3.10/site-packages/torch/nn/modules/module.py:1130\u001b[0m, in \u001b[0;36mModule._call_impl\u001b[0;34m(self, *input, **kwargs)\u001b[0m\n\u001b[1;32m   1126\u001b[0m \u001b[38;5;66;03m# If we don't have any hooks, we want to skip the rest of the logic in\u001b[39;00m\n\u001b[1;32m   1127\u001b[0m \u001b[38;5;66;03m# this function, and just call forward.\u001b[39;00m\n\u001b[1;32m   1128\u001b[0m \u001b[38;5;28;01mif\u001b[39;00m \u001b[38;5;129;01mnot\u001b[39;00m (\u001b[38;5;28mself\u001b[39m\u001b[38;5;241m.\u001b[39m_backward_hooks \u001b[38;5;129;01mor\u001b[39;00m \u001b[38;5;28mself\u001b[39m\u001b[38;5;241m.\u001b[39m_forward_hooks \u001b[38;5;129;01mor\u001b[39;00m \u001b[38;5;28mself\u001b[39m\u001b[38;5;241m.\u001b[39m_forward_pre_hooks \u001b[38;5;129;01mor\u001b[39;00m _global_backward_hooks\n\u001b[1;32m   1129\u001b[0m         \u001b[38;5;129;01mor\u001b[39;00m _global_forward_hooks \u001b[38;5;129;01mor\u001b[39;00m _global_forward_pre_hooks):\n\u001b[0;32m-> 1130\u001b[0m     \u001b[38;5;28;01mreturn\u001b[39;00m \u001b[43mforward_call\u001b[49m\u001b[43m(\u001b[49m\u001b[38;5;241;43m*\u001b[39;49m\u001b[38;5;28;43minput\u001b[39;49m\u001b[43m,\u001b[49m\u001b[43m \u001b[49m\u001b[38;5;241;43m*\u001b[39;49m\u001b[38;5;241;43m*\u001b[39;49m\u001b[43mkwargs\u001b[49m\u001b[43m)\u001b[49m\n\u001b[1;32m   1131\u001b[0m \u001b[38;5;66;03m# Do not call functions when jit is used\u001b[39;00m\n\u001b[1;32m   1132\u001b[0m full_backward_hooks, non_full_backward_hooks \u001b[38;5;241m=\u001b[39m [], []\n",
      "File \u001b[0;32m~/ConvolutionalNeuralOperator/FNOModules.py:233\u001b[0m, in \u001b[0;36mFNO2d.forward\u001b[0;34m(self, x)\u001b[0m\n\u001b[1;32m    231\u001b[0m \u001b[38;5;28;01mif\u001b[39;00m \u001b[38;5;28mself\u001b[39m\u001b[38;5;241m.\u001b[39minclude_grid \u001b[38;5;241m==\u001b[39m \u001b[38;5;241m1\u001b[39m:\n\u001b[1;32m    232\u001b[0m     grid \u001b[38;5;241m=\u001b[39m \u001b[38;5;28mself\u001b[39m\u001b[38;5;241m.\u001b[39mget_grid(x\u001b[38;5;241m.\u001b[39mshape[\u001b[38;5;241m0\u001b[39m], x\u001b[38;5;241m.\u001b[39mshape[\u001b[38;5;241m1\u001b[39m])\u001b[38;5;241m.\u001b[39mto(\u001b[38;5;28mself\u001b[39m\u001b[38;5;241m.\u001b[39mdevice)\n\u001b[0;32m--> 233\u001b[0m     x \u001b[38;5;241m=\u001b[39m \u001b[43mtorch\u001b[49m\u001b[38;5;241;43m.\u001b[39;49m\u001b[43mcat\u001b[49m\u001b[43m(\u001b[49m\u001b[43m(\u001b[49m\u001b[43mgrid\u001b[49m\u001b[43m,\u001b[49m\u001b[43m \u001b[49m\u001b[43mx\u001b[49m\u001b[43m)\u001b[49m\u001b[43m,\u001b[49m\u001b[43m \u001b[49m\u001b[38;5;241;43m-\u001b[39;49m\u001b[38;5;241;43m1\u001b[39;49m\u001b[43m)\u001b[49m\n\u001b[1;32m    235\u001b[0m x \u001b[38;5;241m=\u001b[39m \u001b[38;5;28mself\u001b[39m\u001b[38;5;241m.\u001b[39mr(x)\n\u001b[1;32m    236\u001b[0m x \u001b[38;5;241m=\u001b[39m x\u001b[38;5;241m.\u001b[39mpermute(\u001b[38;5;241m0\u001b[39m, \u001b[38;5;241m3\u001b[39m, \u001b[38;5;241m1\u001b[39m, \u001b[38;5;241m2\u001b[39m)\n",
      "\u001b[0;31mRuntimeError\u001b[0m: CUDA error: no kernel image is available for execution on the device\nCUDA kernel errors might be asynchronously reported at some other API call,so the stacktrace below might be incorrect.\nFor debugging consider passing CUDA_LAUNCH_BLOCKING=1."
     ]
    }
   ],
   "source": [
    "import matplotlib.pyplot as plt\n",
    "import torch\n",
    "import numpy as np\n",
    "\n",
    "\n",
    "def plot_samples(data_loader, model, n, device, cmap='coolwarm', vmin=None, vmax=None):\n",
    "    model.eval()\n",
    "    with torch.no_grad():\n",
    "        for i, batch in enumerate(data_loader):\n",
    "            for inputs, outputs in batch:\n",
    "                if i == n:\n",
    "                    inputs, outputs = inputs.to(device), outputs.to(device)\n",
    "                    predictions = model(inputs).squeeze(1)  # Ensure predictions match dimensions\n",
    "\n",
    "                    # Correct data extraction and reshaping based on how your dataloader formats the batch\n",
    "                    x_coords = inputs[0, :, :, 0].cpu().numpy().flatten()  # Assuming first channel is x-coordinates\n",
    "                    z_coords = inputs[0, :, :, 1].cpu().numpy().flatten()  # Assuming second channel is y-coordinates\n",
    "                    temp_values_t_in = inputs[0, :, :, 4].cpu().numpy().flatten()  # Assuming fifth channel is temperature\n",
    "                    predictions = predictions.cpu().numpy().flatten()\n",
    "                    temp_values_t_out = outputs[0, :, :, 0].cpu().numpy().flatten()  # Assuming outputs are correctly squeezed\n",
    "\n",
    "                    fig, axes = plt.subplots(1, 3, figsize=(26, 8), sharex=True, sharey=True)\n",
    "\n",
    "                    # Input temperature distribution\n",
    "                    sc1 = axes[0].scatter(x_coords, z_coords, c=temp_values_t_in, cmap=cmap, vmin=vmin, vmax=vmax, s=13)\n",
    "                    axes[0].set_title(\"Input Temperatures\")\n",
    "                    axes[0].set_xlabel('X coordinate')\n",
    "                    axes[0].set_ylabel('Y coordinate')\n",
    "                    fig.colorbar(sc1, ax=axes[0])\n",
    "\n",
    "                    # Prediction temperature distribution\n",
    "                    sc2 = axes[1].scatter(x_coords, z_coords, c=predictions, cmap=cmap, vmin=vmin, vmax=vmax, s=13)\n",
    "                    axes[1].set_title(\"Predicted Temperatures\")\n",
    "                    axes[1].set_xlabel('X coordinate')\n",
    "                    axes[1].set_ylabel('Y coordinate')\n",
    "                    fig.colorbar(sc2, ax=axes[1])\n",
    "\n",
    "                    # Output temperature distribution\n",
    "                    sc3 = axes[2].scatter(x_coords, z_coords, c=temp_values_t_out, cmap=cmap, vmin=vmin, vmax=vmax, s=13)\n",
    "                    axes[2].set_title(\"Ground Truth Temperatures\")\n",
    "                    axes[2].set_xlabel('X coordinate')\n",
    "                    axes[2].set_ylabel('Y coordinate')\n",
    "                    fig.colorbar(sc3, ax=axes[2])\n",
    "\n",
    "                    plt.tight_layout()\n",
    "                    plt.show()\n",
    "                    break\n",
    "\n",
    "# Example usage\n",
    "device = torch.device('cuda' if torch.cuda.is_available() else 'cpu')\n",
    "test_loader = DataLoader(StrakaBubbleDataset(which=\"training\", training_samples=128), batch_size=1, shuffle=False)\n",
    "plot_samples(test_loader, model, n=10, device=device, cmap='coolwarm', vmin=None, vmax=None)\n"
   ]
  },
  {
   "cell_type": "code",
   "execution_count": 18,
   "id": "fffe2201-122a-48c6-82ab-ea51be4504ac",
   "metadata": {},
   "outputs": [],
   "source": []
  },
  {
   "cell_type": "code",
   "execution_count": null,
   "id": "1362e874-ef68-45d4-9ce0-e2ac067b07ad",
   "metadata": {},
   "outputs": [],
   "source": []
  }
 ],
 "metadata": {
  "kernelspec": {
   "display_name": "Python 3 (ipykernel)",
   "language": "python",
   "name": "python3"
  },
  "language_info": {
   "codemirror_mode": {
    "name": "ipython",
    "version": 3
   },
   "file_extension": ".py",
   "mimetype": "text/x-python",
   "name": "python",
   "nbconvert_exporter": "python",
   "pygments_lexer": "ipython3",
   "version": "3.10.4"
  }
 },
 "nbformat": 4,
 "nbformat_minor": 5
}
