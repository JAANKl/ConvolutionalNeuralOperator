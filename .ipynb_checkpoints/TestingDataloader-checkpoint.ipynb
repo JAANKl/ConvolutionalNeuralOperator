{
 "cells": [
  {
   "cell_type": "code",
   "execution_count": 1,
   "id": "75b38a35-cfa9-4cf6-bc13-2eda76cf0828",
   "metadata": {},
   "outputs": [
    {
     "name": "stderr",
     "output_type": "stream",
     "text": [
      "/cluster/apps/nss/gcc-8.2.0/python/3.10.4/x86_64/lib64/python3.10/site-packages/xarray/backends/cfgrib_.py:27: UserWarning: Failed to load cfgrib - most likely there is a problem accessing the ecCodes library. Try `import cfgrib` to get the full error message\n",
      "  warnings.warn(\n"
     ]
    }
   ],
   "source": [
    "import random\n",
    "\n",
    "import h5py\n",
    "import numpy as np\n",
    "import xarray as xr\n",
    "import torch\n",
    "from torch.utils.data import DataLoader\n",
    "import torch.nn.functional as F\n",
    "\n",
    "from CNOModule import CNO\n",
    "from torch.utils.data import Dataset\n",
    "\n",
    "import scipy\n",
    "\n",
    "\n",
    "torch.manual_seed(0)\n",
    "np.random.seed(0)\n",
    "random.seed(0)"
   ]
  },
  {
   "cell_type": "code",
   "execution_count": 30,
   "id": "66b7ad3c-cf3a-4b3e-b491-4da535df9d91",
   "metadata": {},
   "outputs": [
    {
     "name": "stdout",
     "output_type": "stream",
     "text": [
      "-20.355426223308996\n",
      "-27.045156499760765\n",
      "-27.473641624102072\n",
      "-27.473641624102072\n"
     ]
    }
   ],
   "source": [
    "t_min = 0\n",
    "for index in range(3,16):\n",
    "    for i in range(1024):\n",
    "        file_data = \"/cluster/work/math/camlab-data/data_dana/4-Straka_vdIC_uvDT_timeseries_1024samples/samples/data/sample_\" + str(i) + \"_fields.nc\"\n",
    "        ds = xr.open_mfdataset(file_data) \n",
    "        data_t_0 = ds.isel(t=index)\n",
    "        t = data_t_0[\"temperature_anomaly\"].values.min()\n",
    "        if t<t_min:\n",
    "            t_min = t\n",
    "            print(t_min)\n",
    "print(t_min)"
   ]
  },
  {
   "cell_type": "code",
   "execution_count": 35,
   "id": "998e85f6-bb9d-4560-bd07-62417622c6c8",
   "metadata": {},
   "outputs": [
    {
     "name": "stdout",
     "output_type": "stream",
     "text": [
      "7.185131418829169\n",
      "7.185131418829169\n"
     ]
    }
   ],
   "source": [
    "v_max = 0\n",
    "for index in range(0,16):\n",
    "    file_data = \"/cluster/work/math/camlab-data/data_dana/4-Straka_vdIC_uvDT_timeseries_1024samples/samples/data/sample_\" + str(i) + \"_fields.nc\"\n",
    "    ds = xr.open_mfdataset(file_data) \n",
    "    data_t_0 = ds.isel(t=index)\n",
    "    v = data_t_0.attrs[\"VISCOSITY\"]\n",
    "    if v>v_max:\n",
    "        v_max = v\n",
    "        print(t_min)\n",
    "print(t_min)"
   ]
  },
  {
   "cell_type": "code",
   "execution_count": 33,
   "id": "60171ba3-952e-4037-bbd4-94e4a0afe981",
   "metadata": {},
   "outputs": [
    {
     "name": "stdout",
     "output_type": "stream",
     "text": [
      "25574.975562072334\n",
      "6400.0\n"
     ]
    }
   ],
   "source": [
    "ds\n",
    "print(data_t_0['x'].values.max())\n",
    "print(data_t_0['z'].values.max())"
   ]
  },
  {
   "cell_type": "code",
   "execution_count": 17,
   "id": "6dfe88dd-ea5c-437f-8bf0-257a3276fe1a",
   "metadata": {},
   "outputs": [],
   "source": [
    "data_t_0 = ds.isel(t=0)\n",
    "data_t_300 = ds.isel(t=300//60)"
   ]
  },
  {
   "cell_type": "code",
   "execution_count": 18,
   "id": "f56d07f1-d157-4433-850d-fb51b1605262",
   "metadata": {},
   "outputs": [
    {
     "data": {
      "text/plain": [
       "36.164882028945556"
      ]
     },
     "execution_count": 18,
     "metadata": {},
     "output_type": "execute_result"
    }
   ],
   "source": [
    "data_t_0.attrs[\"VISCOSITY\"]"
   ]
  },
  {
   "cell_type": "code",
   "execution_count": 19,
   "id": "95c46209-3eea-494c-92dc-0fa62a5451ae",
   "metadata": {},
   "outputs": [
    {
     "data": {
      "text/plain": [
       "-6.31255014215219"
      ]
     },
     "execution_count": 19,
     "metadata": {},
     "output_type": "execute_result"
    }
   ],
   "source": [
    "data_t_0[\"temperature_anomaly\"].values.min()"
   ]
  },
  {
   "cell_type": "code",
   "execution_count": 8,
   "id": "a44309d3-6af3-4550-af73-10eafa0bca64",
   "metadata": {},
   "outputs": [],
   "source": [
    "# For t=0\n",
    "u_values_t_0 = data_t_0['u'].values  # Extract the numpy array\n",
    "x_values = data_t_0['x'].values\n",
    "z_values = data_t_0['z'].values\n",
    "\n",
    "# Create a meshgrid (if you want all combinations of x and z with u values)\n",
    "X, Z = np.meshgrid(x_values, z_values, indexing='ij')\n",
    "U_flat = u_values_t_0.flatten()\n",
    "X_flat = X.flatten()\n",
    "Z_flat = Z.flatten()\n",
    "\n",
    "# Combine into a single numpy array and then convert to a tensor\n",
    "combined_t_0 = np.stack([X_flat, Z_flat, U_flat], axis=1)\n",
    "tensor_t_0 = torch.tensor(combined_t_0, dtype=torch.float32)\n",
    "\n",
    "# Repeat for t=300\n",
    "u_values_t_300 = data_t_300['u'].values\n",
    "X, Z = np.meshgrid(x_values, z_values, indexing='ij')\n",
    "U_flat = u_values_t_300.flatten()\n",
    "X_flat = X.flatten()\n",
    "Z_flat = Z.flatten()\n",
    "\n",
    "combined_t_300 = np.stack([X_flat, Z_flat, U_flat], axis=1)\n",
    "tensor_t_300 = torch.tensor(combined_t_300, dtype=torch.float32)"
   ]
  },
  {
   "cell_type": "code",
   "execution_count": 12,
   "id": "20429a68-bd1f-4f26-af16-42db646ce269",
   "metadata": {},
   "outputs": [],
   "source": [
    "s = 512\n",
    "# Extracting u values at t=0 and t=300\n",
    "u_values_t0 = ds['u'].isel(t=0).values  # u values at t=0\n",
    "u_values_t300 = ds['u'].isel(t=300//60).values  # u values at t=300\n",
    "x_values = ds.coords['x'].values  # x coordinates\n",
    "z_values = ds.coords['z'].values  # z coordinates\n",
    "viscosity = ds.attrs[\"VISCOSITY\"]\n",
    "# meshgrid:\n",
    "x_grid, z_grid = np.meshgrid(x_values, z_values, indexing='ij')\n",
    "viscosity = viscosity * np.ones_like(x_grid)\n",
    "# Convert to PyTorch tensors\n",
    "inputs = torch.tensor(np.stack([x_grid.flatten(), z_grid.flatten(), viscosity.flatten(), u_values_t0.flatten()], axis=1), dtype=torch.float32).reshape(1,4,512, 128)\n",
    "labels = torch.tensor(u_values_t300.flatten(), dtype=torch.float32).reshape(1,1,512, 128)\n",
    "# Pad the inputs and labels to 512x512\n",
    "inputs = F.pad(inputs, (0, 512-128), \"constant\", 0)  # Padding on the width\n",
    "labels = F.pad(labels, (0, 512-128), \"constant\", 0)  # Padding on the width"
   ]
  },
  {
   "cell_type": "code",
   "execution_count": 13,
   "id": "ee7b0c5d-8358-413a-b495-8b3181beef57",
   "metadata": {},
   "outputs": [
    {
     "data": {
      "text/plain": [
       "torch.Size([1, 4, 512, 512])"
      ]
     },
     "execution_count": 13,
     "metadata": {},
     "output_type": "execute_result"
    }
   ],
   "source": [
    "inputs.shape"
   ]
  },
  {
   "cell_type": "code",
   "execution_count": 6,
   "id": "f1af5465-d64c-42ca-8298-cd8faf047ab6",
   "metadata": {},
   "outputs": [
    {
     "data": {
      "image/png": "[encoded data removed]",
      "text/plain": [
       "<Figure size 720x432 with 2 Axes>"
      ]
     },
     "metadata": {
      "needs_background": "light"
     },
     "output_type": "display_data"
    },
    {
     "data": {
      "image/png": "[encoded data removed]",
      "text/plain": [
       "<Figure size 720x432 with 2 Axes>"
      ]
     },
     "metadata": {
      "needs_background": "light"
     },
     "output_type": "display_data"
    }
   ],
   "source": [
    "import matplotlib.pyplot as plt\n",
    "import numpy as np\n",
    "\n",
    "# Convert tensor to numpy array\n",
    "tensor_data = tensor_t_300.numpy()\n",
    "\n",
    "# Extract columns: assuming tensor structure is [X_flat, Z_flat, U_flat]\n",
    "x_values = tensor_data[:, 0]  # x coordinates\n",
    "z_values = tensor_data[:, 1]  # z coordinates\n",
    "u_values = tensor_data[:, 2]  # u values at t=300\n",
    "\n",
    "# Since x and z are meshgrid flattened, reshape to original grid size\n",
    "x_dim = int(np.sqrt(len(x_values)))  # Assuming square grid for simplicity\n",
    "z_dim = int(np.sqrt(len(z_values)))  # Should be the same\n",
    "\n",
    "x_grid = x_values.reshape((x_dim, z_dim))\n",
    "z_grid = z_values.reshape((x_dim, z_dim))\n",
    "u_grid = u_values.reshape((x_dim, z_dim))\n",
    "\n",
    "# Create a contour plot\n",
    "plt.figure(figsize=(10, 6))\n",
    "cp = plt.contourf(x_grid, z_grid, u_grid, 50, cmap='viridis')  # 50 levels, change as needed\n",
    "plt.colorbar(cp)  # Add a colorbar\n",
    "plt.title('Contour Plot of u values at t=300')\n",
    "plt.xlabel('x coordinate')\n",
    "plt.ylabel('z coordinate')\n",
    "plt.show()\n",
    "\n",
    "# Alternatively, create a heatmap\n",
    "plt.figure(figsize=(10, 6))\n",
    "heatmap = plt.imshow(u_grid, extent=(x_grid.min(), x_grid.max(), z_grid.min(), z_grid.max()), origin='lower', cmap='viridis', aspect='auto')\n",
    "plt.colorbar(heatmap)\n",
    "plt.title('Heatmap of u values at t=300')\n",
    "plt.xlabel('x coordinate')\n",
    "plt.ylabel('z coordinate')\n",
    "plt.show()\n",
    "\n"
   ]
  },
  {
   "cell_type": "code",
   "execution_count": null,
   "id": "d43f4505-5bf2-4511-9896-c62c0f9f7593",
   "metadata": {},
   "outputs": [
    {
     "data": {
      "text/plain": [
       "tensor([    0.0000,     0.0000,     0.0000,  ..., 25574.9746, 25574.9746,\n",
       "        25574.9746])"
      ]
     },
     "execution_count": 7,
     "metadata": {},
     "output_type": "execute_result"
    }
   ],
   "source": [
    "tensor_t_0[:,0]"
   ]
  },
  {
   "cell_type": "code",
   "execution_count": null,
   "id": "2c49aaa4-d4e1-4516-ab25-512f7c6f73af",
   "metadata": {},
   "outputs": [
    {
     "data": {
      "text/plain": [
       "tensor([    0.0000,     0.0000,     0.0000,  ..., 25574.9746, 25574.9746,\n",
       "        25574.9746])"
      ]
     },
     "execution_count": 8,
     "metadata": {},
     "output_type": "execute_result"
    }
   ],
   "source": [
    "tensor_t_300[:,0]"
   ]
  },
  {
   "cell_type": "code",
   "execution_count": null,
   "id": "7dc65377-9edb-4f0e-9a5d-701491304bc0",
   "metadata": {},
   "outputs": [],
   "source": [
    "# Extracting u values at t=0 and t=300\n",
    "u_values_t0 = ds['u'].isel(t=0).values  # u values at t=0\n",
    "u_values_t300 = ds['u'].isel(t=300//60).values  # u values at t=300\n",
    "x_values = ds.coords['x'].values  # x coordinates\n",
    "z_values = ds.coords['z'].values  # z coordinates"
   ]
  },
  {
   "cell_type": "code",
   "execution_count": 13,
   "id": "d77848d8-ab45-4ff7-9a85-3c2e71c6e020",
   "metadata": {},
   "outputs": [],
   "source": [
    "#############################"
   ]
  },
  {
   "cell_type": "code",
   "execution_count": 12,
   "id": "78e5d1a4-3f4e-4207-aa51-12b1fe246a5e",
   "metadata": {},
   "outputs": [],
   "source": [
    "class StrakaBubbleDataset(Dataset):\n",
    "    def __init__(self, which=\"training\", nf=0, training_samples = 750, in_dist = True):\n",
    "        \n",
    "        self.in_dist = in_dist\n",
    "        #The file:\n",
    "        \n",
    "        self.file_data = \"/cluster/work/math/camlab-data/data_dana/4-Straka_vdIC_uvDT_timeseries_1024samples/samples/data/sample_\"\n",
    "        \n",
    "        # self.reader = xr.open_mfdataset() \n",
    "        \n",
    "        self.N_max = 1024\n",
    "\n",
    "        self.n_val  = 128\n",
    "        self.n_test = 128\n",
    "        self.min_data = 1.4307903051376343 # TODO: find out real values and change\n",
    "        self.max_data = -1.4307903051376343\n",
    "        self.min_model = 2.0603253841400146\n",
    "        self.max_model= -2.0383243560791016\n",
    "        \n",
    "        if which == \"training\":\n",
    "            self.length = training_samples\n",
    "            self.start = 0\n",
    "        elif which == \"validation\":\n",
    "            self.length = self.n_val\n",
    "            self.start = self.N_max - self.n_val - self.n_test\n",
    "        elif which == \"test\":\n",
    "            self.length = self.n_test\n",
    "            self.start = self.N_max  - self.n_test\n",
    "        \n",
    "        \n",
    "    def __len__(self):\n",
    "        return self.length\n",
    "\n",
    "    def __getitem__(self, index):\n",
    "        \n",
    "        ds = xr.open_mfdataset(self.file_data + str(index + self.start) + \"_fields.nc\")\n",
    "        # Extracting u values at t=0 and t=300\n",
    "        u_values_t0 = ds['u'].isel(t=0).values  # u values at t=0\n",
    "        u_values_t300 = ds['u'].isel(t=300//60).values  # u values at t=300\n",
    "        x_values = ds.coords['x'].values  # x coordinates\n",
    "        z_values = ds.coords['z'].values  # z coordinates\n",
    "        # meshgrid:\n",
    "        x_grid, z_grid = np.meshgrid(x_values, z_values, indexing='ij')\n",
    "        # Convert to PyTorch tensors\n",
    "        inputs = torch.tensor(np.stack([x_grid.flatten(), z_grid.flatten(), u_values_t0.flatten()], axis=1), dtype=torch.float32)\n",
    "        labels = torch.tensor(u_values_t300.flatten(), dtype=torch.float32)\n",
    "        \n",
    "        # Normalising\n",
    "        inputs = (inputs - self.min_data)/(self.max_data - self.min_data)\n",
    "        labels = (labels - self.min_model)/(self.max_model - self.min_model)\n",
    "        \n",
    "\n",
    "        return inputs, labels\n",
    "    \n",
    "    \n",
    "class StrakaBubble:\n",
    "    def __init__(self, network_properties, device, batch_size, training_samples, in_dist = True):\n",
    "\n",
    "        #Must have parameters: ------------------------------------------------        \n",
    "\n",
    "        if \"in_size\" in network_properties:\n",
    "            self.in_size = network_properties[\"in_size\"]\n",
    "            assert self.in_size<=128        \n",
    "        else:\n",
    "            raise ValueError(\"You must specify the computational grid size.\")\n",
    "        \n",
    "        if \"N_layers\" in network_properties:\n",
    "            N_layers = network_properties[\"N_layers\"]\n",
    "        else:\n",
    "            raise ValueError(\"You must specify the number of (D) + (U) blocks.\")\n",
    "        \n",
    "        if \"N_res\" in network_properties:\n",
    "                N_res = network_properties[\"N_res\"]        \n",
    "        else:\n",
    "            raise ValueError(\"You must specify the number of (R) blocks.\")\n",
    "        \n",
    "        if \"N_res_neck\" in network_properties:\n",
    "                N_res_neck = network_properties[\"N_res_neck\"]        \n",
    "        else:\n",
    "            raise ValueError(\"You must specify the number of (R)-neck blocks.\")\n",
    "        \n",
    "        #Load default parameters if they are not in network_properties\n",
    "        network_properties = default_param(network_properties)\n",
    "        \n",
    "        #----------------------------------------------------------------------\n",
    "        kernel_size = network_properties[\"kernel_size\"]\n",
    "        channel_multiplier = network_properties[\"channel_multiplier\"]\n",
    "        retrain = network_properties[\"retrain\"]\n",
    "        \n",
    "        #Filter properties: ---------------------------------------------------\n",
    "        cutoff_den = network_properties[\"cutoff_den\"]\n",
    "        filter_size = network_properties[\"filter_size\"]\n",
    "        half_width_mult = network_properties[\"half_width_mult\"]\n",
    "        lrelu_upsampling = network_properties[\"lrelu_upsampling\"]\n",
    "        activation = network_properties[\"activation\"]\n",
    "        ##----------------------------------------------------------------------\n",
    "        \n",
    "        torch.manual_seed(retrain)\n",
    "        \n",
    "        self.model = CNO(in_dim  = 16,     # Number of input channels.\n",
    "                        in_size = self.in_size,                # Input spatial size\n",
    "                        N_layers = N_layers,                   # Number of (D) and (U) Blocks in the network\n",
    "                        N_res = N_res,                         # Number of (R) Blocks per level\n",
    "                        N_res_neck = N_res_neck,\n",
    "                        channel_multiplier = channel_multiplier,\n",
    "                        conv_kernel=kernel_size,\n",
    "                        cutoff_den = cutoff_den,\n",
    "                        filter_size=filter_size,  \n",
    "                        lrelu_upsampling = lrelu_upsampling,\n",
    "                        half_width_mult  = half_width_mult,\n",
    "                        activation = activation).to(device)\n",
    "\n",
    "        #----------------------------------------------------------------------\n",
    "\n",
    "        #Change number of workers accoirding to your preference\n",
    "        \n",
    "        num_workers = 0\n",
    "        self.train_loader = DataLoader(StrakaBubbleDataset(\"training\", training_samples), batch_size=batch_size, shuffle=True, num_workers=num_workers)\n",
    "        self.val_loader = DataLoader(StrakaBubbleDataset(\"validation\", training_samples), batch_size=batch_size, shuffle=False, num_workers=num_workers)\n",
    "        self.test_loader = DataLoader(StrakaBubbleDataset(\"test\", training_samples, in_dist), batch_size=batch_size, shuffle=False, num_workers=num_workers)\n"
   ]
  },
  {
   "cell_type": "code",
   "execution_count": 23,
   "id": "37cff43d-d4d7-410b-b680-e4a86133ddbc",
   "metadata": {},
   "outputs": [],
   "source": [
    "#Load default parameters:\n",
    "    \n",
    "def default_param(network_properties):\n",
    "    \n",
    "    if \"channel_multiplier\" not in network_properties:\n",
    "        network_properties[\"channel_multiplier\"] = 32\n",
    "    \n",
    "    if \"half_width_mult\" not in network_properties:\n",
    "        network_properties[\"half_width_mult\"] = 1\n",
    "    \n",
    "    if \"lrelu_upsampling\" not in network_properties:\n",
    "        network_properties[\"lrelu_upsampling\"] = 2\n",
    "\n",
    "    if \"filter_size\" not in network_properties:\n",
    "        network_properties[\"filter_size\"] = 6\n",
    "    \n",
    "    if \"out_size\" not in network_properties:\n",
    "        network_properties[\"out_size\"] = 1\n",
    "    \n",
    "    if \"radial\" not in network_properties:\n",
    "        network_properties[\"radial_filter\"] = 0\n",
    "    \n",
    "    if \"cutoff_den\" not in network_properties:\n",
    "        network_properties[\"cutoff_den\"] = 2.0001\n",
    "    \n",
    "    if \"FourierF\" not in network_properties:\n",
    "        network_properties[\"FourierF\"] = 0\n",
    "    \n",
    "    if \"retrain\" not in network_properties:\n",
    "        network_properties[\"retrain\"] = 4\n",
    "    \n",
    "    if \"kernel_size\" not in network_properties:\n",
    "        network_properties[\"kernel_size\"] = 3\n",
    "    \n",
    "    if \"activation\" not in network_properties:\n",
    "        network_properties[\"activation\"] = 'cno_lrelu'\n",
    "    \n",
    "    return network_properties"
   ]
  },
  {
   "cell_type": "code",
   "execution_count": 15,
   "id": "cbfdea24-1c4f-4765-a982-e0d9c628ea90",
   "metadata": {},
   "outputs": [],
   "source": [
    "training_properties = {\n",
    "        \"learning_rate\": 0.001, \n",
    "        \"weight_decay\": 1e-6,\n",
    "        \"scheduler_step\": 10,\n",
    "        \"scheduler_gamma\": 0.98,\n",
    "        \"epochs\": 1000,\n",
    "        \"batch_size\": 16,\n",
    "        \"exp\": 1,                # Do we use L1 or L2 errors? Default: L1\n",
    "        \"training_samples\": 256  # How many training samples?\n",
    "    }\n",
    "model_architecture_ = {\n",
    "        \n",
    "        #Parameters to be chosen with model selection:\n",
    "        \"N_layers\": 3,            # Number of (D) & (U) blocks \n",
    "        \"channel_multiplier\": 16, # Parameter d_e (how the number of channels changes)\n",
    "        \"N_res\": 4,               # Number of (R) blocks in the middle networs.\n",
    "        \"N_res_neck\" : 6,         # Number of (R) blocks in the BN\n",
    "        \n",
    "        #Other parameters:\n",
    "        \"in_size\": 64,            # Resolution of the computational grid\n",
    "        \"retrain\": 4,             # Random seed\n",
    "        \"kernel_size\": 3,         # Kernel size.\n",
    "        \"FourierF\": 0,            # Number of Fourier Features in the input channels. Default is 0.\n",
    "        \"activation\": 'cno_lrelu',# cno_lrelu or cno_lrelu_torch or lrelu or \n",
    "        \n",
    "        #Filter properties:\n",
    "        \"cutoff_den\": 2.0001,     # Cutoff parameter.\n",
    "        \"lrelu_upsampling\": 2,    # Coefficient N_{\\sigma}. Default is 2.\n",
    "        \"half_width_mult\": 0.8,   # Coefficient c_h. Default is 1\n",
    "        \"filter_size\": 6,         # 2xfilter_size is the number of taps N_{tap}. Default is 6.\n",
    "        \"radial_filter\": 0,       # Is the filter radially symmetric? Default is 0 - NO.\n",
    "    }"
   ]
  },
  {
   "cell_type": "code",
   "execution_count": 21,
   "id": "97d62acf-50e5-4123-afe3-3579169c1fe5",
   "metadata": {},
   "outputs": [],
   "source": [
    "device = torch.device('cuda' if torch.cuda.is_available() else 'cpu')\n",
    "learning_rate = training_properties[\"learning_rate\"]\n",
    "epochs = training_properties[\"epochs\"]\n",
    "batch_size = training_properties[\"batch_size\"]\n",
    "weight_decay = training_properties[\"weight_decay\"]\n",
    "scheduler_step = training_properties[\"scheduler_step\"]\n",
    "scheduler_gamma = training_properties[\"scheduler_gamma\"]\n",
    "training_samples = training_properties[\"training_samples\"]\n",
    "p = training_properties[\"exp\"]"
   ]
  },
  {
   "cell_type": "code",
   "execution_count": 24,
   "id": "e4d383a5-8f36-4865-9fe6-a79609877d3e",
   "metadata": {},
   "outputs": [],
   "source": [
    "example = StrakaBubble(model_architecture_, device, batch_size, training_samples)"
   ]
  },
  {
   "cell_type": "code",
   "execution_count": 29,
   "id": "2780a3f9-40f5-4ed7-9c0d-0a05d866b938",
   "metadata": {},
   "outputs": [
    {
     "name": "stdout",
     "output_type": "stream",
     "text": [
      "Total number of model parameters: 757481 (~2.89MiB)\n"
     ]
    },
    {
     "name": "stderr",
     "output_type": "stream",
     "text": [
      "Epoch 0: : 0batch [00:00, ?batch/s]"
     ]
    },
    {
     "name": "stdout",
     "output_type": "stream",
     "text": [
      "Setting up PyTorch plugin \"filtered_lrelu_plugin\"... "
     ]
    },
    {
     "name": "stderr",
     "output_type": "stream",
     "text": [
      "Epoch 0: : 0batch [00:02, ?batch/s]"
     ]
    },
    {
     "name": "stdout",
     "output_type": "stream",
     "text": [
      "Failed!\n"
     ]
    },
    {
     "name": "stderr",
     "output_type": "stream",
     "text": [
      "\n"
     ]
    },
    {
     "ename": "ImportError",
     "evalue": "/cluster/home/jaking/.cache/torch_extensions/py310_cu102/filtered_lrelu_plugin/2e9606d7cf844ec44b9f500eaacd35c0-quadro-rtx-6000/filtered_lrelu_plugin.so: cannot open shared object file: No such file or directory",
     "output_type": "error",
     "traceback": [
      "\u001b[0;31m---------------------------------------------------------------------------\u001b[0m",
      "\u001b[0;31mImportError\u001b[0m                               Traceback (most recent call last)",
      "Input \u001b[0;32mIn [29]\u001b[0m, in \u001b[0;36m<cell line: 29>\u001b[0;34m()\u001b[0m\n\u001b[1;32m     38\u001b[0m input_batch \u001b[38;5;241m=\u001b[39m input_batch\u001b[38;5;241m.\u001b[39mto(device)\n\u001b[1;32m     39\u001b[0m output_batch \u001b[38;5;241m=\u001b[39m output_batch\u001b[38;5;241m.\u001b[39mto(device)\n\u001b[0;32m---> 41\u001b[0m output_pred_batch \u001b[38;5;241m=\u001b[39m \u001b[43mmodel\u001b[49m\u001b[43m(\u001b[49m\u001b[43minput_batch\u001b[49m\u001b[43m)\u001b[49m\n\u001b[1;32m     43\u001b[0m \u001b[38;5;28;01mif\u001b[39;00m which_example \u001b[38;5;241m==\u001b[39m \u001b[38;5;124m\"\u001b[39m\u001b[38;5;124mairfoil\u001b[39m\u001b[38;5;124m\"\u001b[39m: \u001b[38;5;66;03m#Mask the airfoil shape\u001b[39;00m\n\u001b[1;32m     44\u001b[0m     output_pred_batch[input_batch\u001b[38;5;241m==\u001b[39m\u001b[38;5;241m1\u001b[39m] \u001b[38;5;241m=\u001b[39m \u001b[38;5;241m1\u001b[39m\n",
      "File \u001b[0;32m~/.local/lib/python3.10/site-packages/torch/nn/modules/module.py:1130\u001b[0m, in \u001b[0;36mModule._call_impl\u001b[0;34m(self, *input, **kwargs)\u001b[0m\n\u001b[1;32m   1126\u001b[0m \u001b[38;5;66;03m# If we don't have any hooks, we want to skip the rest of the logic in\u001b[39;00m\n\u001b[1;32m   1127\u001b[0m \u001b[38;5;66;03m# this function, and just call forward.\u001b[39;00m\n\u001b[1;32m   1128\u001b[0m \u001b[38;5;28;01mif\u001b[39;00m \u001b[38;5;129;01mnot\u001b[39;00m (\u001b[38;5;28mself\u001b[39m\u001b[38;5;241m.\u001b[39m_backward_hooks \u001b[38;5;129;01mor\u001b[39;00m \u001b[38;5;28mself\u001b[39m\u001b[38;5;241m.\u001b[39m_forward_hooks \u001b[38;5;129;01mor\u001b[39;00m \u001b[38;5;28mself\u001b[39m\u001b[38;5;241m.\u001b[39m_forward_pre_hooks \u001b[38;5;129;01mor\u001b[39;00m _global_backward_hooks\n\u001b[1;32m   1129\u001b[0m         \u001b[38;5;129;01mor\u001b[39;00m _global_forward_hooks \u001b[38;5;129;01mor\u001b[39;00m _global_forward_pre_hooks):\n\u001b[0;32m-> 1130\u001b[0m     \u001b[38;5;28;01mreturn\u001b[39;00m \u001b[43mforward_call\u001b[49m\u001b[43m(\u001b[49m\u001b[38;5;241;43m*\u001b[39;49m\u001b[38;5;28;43minput\u001b[39;49m\u001b[43m,\u001b[49m\u001b[43m \u001b[49m\u001b[38;5;241;43m*\u001b[39;49m\u001b[38;5;241;43m*\u001b[39;49m\u001b[43mkwargs\u001b[49m\u001b[43m)\u001b[49m\n\u001b[1;32m   1131\u001b[0m \u001b[38;5;66;03m# Do not call functions when jit is used\u001b[39;00m\n\u001b[1;32m   1132\u001b[0m full_backward_hooks, non_full_backward_hooks \u001b[38;5;241m=\u001b[39m [], []\n",
      "File \u001b[0;32m~/ConvolutionalNeuralOperator/CNOModule.py:491\u001b[0m, in \u001b[0;36mCNO.forward\u001b[0;34m(self, x)\u001b[0m\n\u001b[1;32m    488\u001b[0m \u001b[38;5;28;01mdef\u001b[39;00m \u001b[38;5;21mforward\u001b[39m(\u001b[38;5;28mself\u001b[39m, x):\n\u001b[1;32m    489\u001b[0m              \n\u001b[1;32m    490\u001b[0m     \u001b[38;5;66;03m#Execute Lift ---------------------------------------------------------\u001b[39;00m\n\u001b[0;32m--> 491\u001b[0m     x \u001b[38;5;241m=\u001b[39m \u001b[38;5;28;43mself\u001b[39;49m\u001b[38;5;241;43m.\u001b[39;49m\u001b[43mlift\u001b[49m\u001b[43m(\u001b[49m\u001b[43mx\u001b[49m\u001b[43m)\u001b[49m\n\u001b[1;32m    492\u001b[0m     skip \u001b[38;5;241m=\u001b[39m []\n\u001b[1;32m    494\u001b[0m     \u001b[38;5;66;03m# Execute Encoder -----------------------------------------------------\u001b[39;00m\n",
      "File \u001b[0;32m~/.local/lib/python3.10/site-packages/torch/nn/modules/module.py:1130\u001b[0m, in \u001b[0;36mModule._call_impl\u001b[0;34m(self, *input, **kwargs)\u001b[0m\n\u001b[1;32m   1126\u001b[0m \u001b[38;5;66;03m# If we don't have any hooks, we want to skip the rest of the logic in\u001b[39;00m\n\u001b[1;32m   1127\u001b[0m \u001b[38;5;66;03m# this function, and just call forward.\u001b[39;00m\n\u001b[1;32m   1128\u001b[0m \u001b[38;5;28;01mif\u001b[39;00m \u001b[38;5;129;01mnot\u001b[39;00m (\u001b[38;5;28mself\u001b[39m\u001b[38;5;241m.\u001b[39m_backward_hooks \u001b[38;5;129;01mor\u001b[39;00m \u001b[38;5;28mself\u001b[39m\u001b[38;5;241m.\u001b[39m_forward_hooks \u001b[38;5;129;01mor\u001b[39;00m \u001b[38;5;28mself\u001b[39m\u001b[38;5;241m.\u001b[39m_forward_pre_hooks \u001b[38;5;129;01mor\u001b[39;00m _global_backward_hooks\n\u001b[1;32m   1129\u001b[0m         \u001b[38;5;129;01mor\u001b[39;00m _global_forward_hooks \u001b[38;5;129;01mor\u001b[39;00m _global_forward_pre_hooks):\n\u001b[0;32m-> 1130\u001b[0m     \u001b[38;5;28;01mreturn\u001b[39;00m \u001b[43mforward_call\u001b[49m\u001b[43m(\u001b[49m\u001b[38;5;241;43m*\u001b[39;49m\u001b[38;5;28;43minput\u001b[39;49m\u001b[43m,\u001b[49m\u001b[43m \u001b[49m\u001b[38;5;241;43m*\u001b[39;49m\u001b[38;5;241;43m*\u001b[39;49m\u001b[43mkwargs\u001b[49m\u001b[43m)\u001b[49m\n\u001b[1;32m   1131\u001b[0m \u001b[38;5;66;03m# Do not call functions when jit is used\u001b[39;00m\n\u001b[1;32m   1132\u001b[0m full_backward_hooks, non_full_backward_hooks \u001b[38;5;241m=\u001b[39m [], []\n",
      "File \u001b[0;32m~/ConvolutionalNeuralOperator/CNOModule.py:158\u001b[0m, in \u001b[0;36mLiftProjectBlock.forward\u001b[0;34m(self, x)\u001b[0m\n\u001b[1;32m    157\u001b[0m \u001b[38;5;28;01mdef\u001b[39;00m \u001b[38;5;21mforward\u001b[39m(\u001b[38;5;28mself\u001b[39m, x):\n\u001b[0;32m--> 158\u001b[0m     x \u001b[38;5;241m=\u001b[39m \u001b[38;5;28;43mself\u001b[39;49m\u001b[38;5;241;43m.\u001b[39;49m\u001b[43minter_CNOBlock\u001b[49m\u001b[43m(\u001b[49m\u001b[43mx\u001b[49m\u001b[43m)\u001b[49m\n\u001b[1;32m    160\u001b[0m     x \u001b[38;5;241m=\u001b[39m \u001b[38;5;28mself\u001b[39m\u001b[38;5;241m.\u001b[39mconvolution(x)\n\u001b[1;32m    161\u001b[0m     \u001b[38;5;28;01mif\u001b[39;00m \u001b[38;5;28mself\u001b[39m\u001b[38;5;241m.\u001b[39mbatch_norm:\n",
      "File \u001b[0;32m~/.local/lib/python3.10/site-packages/torch/nn/modules/module.py:1130\u001b[0m, in \u001b[0;36mModule._call_impl\u001b[0;34m(self, *input, **kwargs)\u001b[0m\n\u001b[1;32m   1126\u001b[0m \u001b[38;5;66;03m# If we don't have any hooks, we want to skip the rest of the logic in\u001b[39;00m\n\u001b[1;32m   1127\u001b[0m \u001b[38;5;66;03m# this function, and just call forward.\u001b[39;00m\n\u001b[1;32m   1128\u001b[0m \u001b[38;5;28;01mif\u001b[39;00m \u001b[38;5;129;01mnot\u001b[39;00m (\u001b[38;5;28mself\u001b[39m\u001b[38;5;241m.\u001b[39m_backward_hooks \u001b[38;5;129;01mor\u001b[39;00m \u001b[38;5;28mself\u001b[39m\u001b[38;5;241m.\u001b[39m_forward_hooks \u001b[38;5;129;01mor\u001b[39;00m \u001b[38;5;28mself\u001b[39m\u001b[38;5;241m.\u001b[39m_forward_pre_hooks \u001b[38;5;129;01mor\u001b[39;00m _global_backward_hooks\n\u001b[1;32m   1129\u001b[0m         \u001b[38;5;129;01mor\u001b[39;00m _global_forward_hooks \u001b[38;5;129;01mor\u001b[39;00m _global_forward_pre_hooks):\n\u001b[0;32m-> 1130\u001b[0m     \u001b[38;5;28;01mreturn\u001b[39;00m \u001b[43mforward_call\u001b[49m\u001b[43m(\u001b[49m\u001b[38;5;241;43m*\u001b[39;49m\u001b[38;5;28;43minput\u001b[39;49m\u001b[43m,\u001b[49m\u001b[43m \u001b[49m\u001b[38;5;241;43m*\u001b[39;49m\u001b[38;5;241;43m*\u001b[39;49m\u001b[43mkwargs\u001b[49m\u001b[43m)\u001b[49m\n\u001b[1;32m   1131\u001b[0m \u001b[38;5;66;03m# Do not call functions when jit is used\u001b[39;00m\n\u001b[1;32m   1132\u001b[0m full_backward_hooks, non_full_backward_hooks \u001b[38;5;241m=\u001b[39m [], []\n",
      "File \u001b[0;32m~/ConvolutionalNeuralOperator/CNOModule.py:111\u001b[0m, in \u001b[0;36mCNOBlock.forward\u001b[0;34m(self, x)\u001b[0m\n\u001b[1;32m    109\u001b[0m \u001b[38;5;28;01mif\u001b[39;00m \u001b[38;5;28mself\u001b[39m\u001b[38;5;241m.\u001b[39mbatch_norm:\n\u001b[1;32m    110\u001b[0m     x \u001b[38;5;241m=\u001b[39m \u001b[38;5;28mself\u001b[39m\u001b[38;5;241m.\u001b[39mbatch_norm(x)\n\u001b[0;32m--> 111\u001b[0m \u001b[38;5;28;01mreturn\u001b[39;00m \u001b[38;5;28;43mself\u001b[39;49m\u001b[38;5;241;43m.\u001b[39;49m\u001b[43mactivation\u001b[49m\u001b[43m(\u001b[49m\u001b[43mx\u001b[49m\u001b[43m)\u001b[49m\n",
      "File \u001b[0;32m~/.local/lib/python3.10/site-packages/torch/nn/modules/module.py:1130\u001b[0m, in \u001b[0;36mModule._call_impl\u001b[0;34m(self, *input, **kwargs)\u001b[0m\n\u001b[1;32m   1126\u001b[0m \u001b[38;5;66;03m# If we don't have any hooks, we want to skip the rest of the logic in\u001b[39;00m\n\u001b[1;32m   1127\u001b[0m \u001b[38;5;66;03m# this function, and just call forward.\u001b[39;00m\n\u001b[1;32m   1128\u001b[0m \u001b[38;5;28;01mif\u001b[39;00m \u001b[38;5;129;01mnot\u001b[39;00m (\u001b[38;5;28mself\u001b[39m\u001b[38;5;241m.\u001b[39m_backward_hooks \u001b[38;5;129;01mor\u001b[39;00m \u001b[38;5;28mself\u001b[39m\u001b[38;5;241m.\u001b[39m_forward_hooks \u001b[38;5;129;01mor\u001b[39;00m \u001b[38;5;28mself\u001b[39m\u001b[38;5;241m.\u001b[39m_forward_pre_hooks \u001b[38;5;129;01mor\u001b[39;00m _global_backward_hooks\n\u001b[1;32m   1129\u001b[0m         \u001b[38;5;129;01mor\u001b[39;00m _global_forward_hooks \u001b[38;5;129;01mor\u001b[39;00m _global_forward_pre_hooks):\n\u001b[0;32m-> 1130\u001b[0m     \u001b[38;5;28;01mreturn\u001b[39;00m \u001b[43mforward_call\u001b[49m\u001b[43m(\u001b[49m\u001b[38;5;241;43m*\u001b[39;49m\u001b[38;5;28;43minput\u001b[39;49m\u001b[43m,\u001b[49m\u001b[43m \u001b[49m\u001b[38;5;241;43m*\u001b[39;49m\u001b[38;5;241;43m*\u001b[39;49m\u001b[43mkwargs\u001b[49m\u001b[43m)\u001b[49m\n\u001b[1;32m   1131\u001b[0m \u001b[38;5;66;03m# Do not call functions when jit is used\u001b[39;00m\n\u001b[1;32m   1132\u001b[0m full_backward_hooks, non_full_backward_hooks \u001b[38;5;241m=\u001b[39m [], []\n",
      "File \u001b[0;32m~/ConvolutionalNeuralOperator/training/filtered_networks.py:392\u001b[0m, in \u001b[0;36mLReLu.forward\u001b[0;34m(self, x, noise_mode, force_fp32, update_emas)\u001b[0m\n\u001b[1;32m    390\u001b[0m gain \u001b[38;5;241m=\u001b[39m np\u001b[38;5;241m.\u001b[39msqrt(\u001b[38;5;241m2\u001b[39m)\n\u001b[1;32m    391\u001b[0m slope \u001b[38;5;241m=\u001b[39m \u001b[38;5;241m0.2\u001b[39m\n\u001b[0;32m--> 392\u001b[0m x \u001b[38;5;241m=\u001b[39m \u001b[43mfiltered_lrelu\u001b[49m\u001b[38;5;241;43m.\u001b[39;49m\u001b[43mfiltered_lrelu\u001b[49m\u001b[43m(\u001b[49m\u001b[43mx\u001b[49m\u001b[38;5;241;43m=\u001b[39;49m\u001b[43mx\u001b[49m\u001b[43m,\u001b[49m\u001b[43m \u001b[49m\u001b[43mfu\u001b[49m\u001b[38;5;241;43m=\u001b[39;49m\u001b[38;5;28;43mself\u001b[39;49m\u001b[38;5;241;43m.\u001b[39;49m\u001b[43mup_filter\u001b[49m\u001b[43m,\u001b[49m\u001b[43m \u001b[49m\u001b[43mfd\u001b[49m\u001b[38;5;241;43m=\u001b[39;49m\u001b[38;5;28;43mself\u001b[39;49m\u001b[38;5;241;43m.\u001b[39;49m\u001b[43mdown_filter\u001b[49m\u001b[43m,\u001b[49m\u001b[43m \u001b[49m\u001b[43mb\u001b[49m\u001b[38;5;241;43m=\u001b[39;49m\u001b[38;5;28;43mself\u001b[39;49m\u001b[38;5;241;43m.\u001b[39;49m\u001b[43mbias\u001b[49m\u001b[38;5;241;43m.\u001b[39;49m\u001b[43mto\u001b[49m\u001b[43m(\u001b[49m\u001b[43mx\u001b[49m\u001b[38;5;241;43m.\u001b[39;49m\u001b[43mdtype\u001b[49m\u001b[43m)\u001b[49m\u001b[43m,\u001b[49m\n\u001b[1;32m    393\u001b[0m \u001b[43m    \u001b[49m\u001b[43mup\u001b[49m\u001b[38;5;241;43m=\u001b[39;49m\u001b[38;5;28;43mself\u001b[39;49m\u001b[38;5;241;43m.\u001b[39;49m\u001b[43mup_factor\u001b[49m\u001b[43m,\u001b[49m\u001b[43m \u001b[49m\u001b[43mdown\u001b[49m\u001b[38;5;241;43m=\u001b[39;49m\u001b[38;5;28;43mself\u001b[39;49m\u001b[38;5;241;43m.\u001b[39;49m\u001b[43mdown_factor\u001b[49m\u001b[43m,\u001b[49m\u001b[43m \u001b[49m\u001b[43mpadding\u001b[49m\u001b[38;5;241;43m=\u001b[39;49m\u001b[38;5;28;43mself\u001b[39;49m\u001b[38;5;241;43m.\u001b[39;49m\u001b[43mpadding\u001b[49m\u001b[43m,\u001b[49m\u001b[43m \u001b[49m\u001b[43mgain\u001b[49m\u001b[38;5;241;43m=\u001b[39;49m\u001b[43mgain\u001b[49m\u001b[43m,\u001b[49m\u001b[43m \u001b[49m\u001b[43mslope\u001b[49m\u001b[38;5;241;43m=\u001b[39;49m\u001b[43mslope\u001b[49m\u001b[43m,\u001b[49m\u001b[43m \u001b[49m\u001b[43mclamp\u001b[49m\u001b[38;5;241;43m=\u001b[39;49m\u001b[38;5;28;43;01mNone\u001b[39;49;00m\u001b[43m)\u001b[49m\n\u001b[1;32m    396\u001b[0m \u001b[38;5;66;03m# Ensure correct shape and dtype.\u001b[39;00m\n\u001b[1;32m    397\u001b[0m misc\u001b[38;5;241m.\u001b[39massert_shape(x, [\u001b[38;5;28;01mNone\u001b[39;00m, \u001b[38;5;28mself\u001b[39m\u001b[38;5;241m.\u001b[39mout_channels, \u001b[38;5;28mint\u001b[39m(\u001b[38;5;28mself\u001b[39m\u001b[38;5;241m.\u001b[39mout_size[\u001b[38;5;241m1\u001b[39m]), \u001b[38;5;28mint\u001b[39m(\u001b[38;5;28mself\u001b[39m\u001b[38;5;241m.\u001b[39mout_size[\u001b[38;5;241m0\u001b[39m])])\n",
      "File \u001b[0;32m~/ConvolutionalNeuralOperator/torch_utils/ops/filtered_lrelu.py:114\u001b[0m, in \u001b[0;36mfiltered_lrelu\u001b[0;34m(x, fu, fd, b, up, down, padding, gain, slope, clamp, flip_filter, impl)\u001b[0m\n\u001b[1;32m    112\u001b[0m \u001b[38;5;28;01massert\u001b[39;00m \u001b[38;5;28misinstance\u001b[39m(x, torch\u001b[38;5;241m.\u001b[39mTensor)\n\u001b[1;32m    113\u001b[0m \u001b[38;5;28;01massert\u001b[39;00m impl \u001b[38;5;129;01min\u001b[39;00m [\u001b[38;5;124m'\u001b[39m\u001b[38;5;124mref\u001b[39m\u001b[38;5;124m'\u001b[39m, \u001b[38;5;124m'\u001b[39m\u001b[38;5;124mcuda\u001b[39m\u001b[38;5;124m'\u001b[39m]\n\u001b[0;32m--> 114\u001b[0m \u001b[38;5;28;01mif\u001b[39;00m impl \u001b[38;5;241m==\u001b[39m \u001b[38;5;124m'\u001b[39m\u001b[38;5;124mcuda\u001b[39m\u001b[38;5;124m'\u001b[39m \u001b[38;5;129;01mand\u001b[39;00m x\u001b[38;5;241m.\u001b[39mdevice\u001b[38;5;241m.\u001b[39mtype \u001b[38;5;241m==\u001b[39m \u001b[38;5;124m'\u001b[39m\u001b[38;5;124mcuda\u001b[39m\u001b[38;5;124m'\u001b[39m \u001b[38;5;129;01mand\u001b[39;00m \u001b[43m_init\u001b[49m\u001b[43m(\u001b[49m\u001b[43m)\u001b[49m:\n\u001b[1;32m    115\u001b[0m     \u001b[38;5;28;01mreturn\u001b[39;00m _filtered_lrelu_cuda(up\u001b[38;5;241m=\u001b[39mup, down\u001b[38;5;241m=\u001b[39mdown, padding\u001b[38;5;241m=\u001b[39mpadding, gain\u001b[38;5;241m=\u001b[39mgain, slope\u001b[38;5;241m=\u001b[39mslope, clamp\u001b[38;5;241m=\u001b[39mclamp, flip_filter\u001b[38;5;241m=\u001b[39mflip_filter)\u001b[38;5;241m.\u001b[39mapply(x, fu, fd, b, \u001b[38;5;28;01mNone\u001b[39;00m, \u001b[38;5;241m0\u001b[39m, \u001b[38;5;241m0\u001b[39m)\n\u001b[1;32m    116\u001b[0m \u001b[38;5;28;01mreturn\u001b[39;00m _filtered_lrelu_ref(x, fu\u001b[38;5;241m=\u001b[39mfu, fd\u001b[38;5;241m=\u001b[39mfd, b\u001b[38;5;241m=\u001b[39mb, up\u001b[38;5;241m=\u001b[39mup, down\u001b[38;5;241m=\u001b[39mdown, padding\u001b[38;5;241m=\u001b[39mpadding, gain\u001b[38;5;241m=\u001b[39mgain, slope\u001b[38;5;241m=\u001b[39mslope, clamp\u001b[38;5;241m=\u001b[39mclamp, flip_filter\u001b[38;5;241m=\u001b[39mflip_filter)\n",
      "File \u001b[0;32m~/ConvolutionalNeuralOperator/torch_utils/ops/filtered_lrelu.py:26\u001b[0m, in \u001b[0;36m_init\u001b[0;34m()\u001b[0m\n\u001b[1;32m     24\u001b[0m \u001b[38;5;28;01mglobal\u001b[39;00m _plugin\n\u001b[1;32m     25\u001b[0m \u001b[38;5;28;01mif\u001b[39;00m _plugin \u001b[38;5;129;01mis\u001b[39;00m \u001b[38;5;28;01mNone\u001b[39;00m:\n\u001b[0;32m---> 26\u001b[0m     _plugin \u001b[38;5;241m=\u001b[39m \u001b[43mcustom_ops\u001b[49m\u001b[38;5;241;43m.\u001b[39;49m\u001b[43mget_plugin\u001b[49m\u001b[43m(\u001b[49m\n\u001b[1;32m     27\u001b[0m \u001b[43m        \u001b[49m\u001b[43mmodule_name\u001b[49m\u001b[38;5;241;43m=\u001b[39;49m\u001b[38;5;124;43m'\u001b[39;49m\u001b[38;5;124;43mfiltered_lrelu_plugin\u001b[39;49m\u001b[38;5;124;43m'\u001b[39;49m\u001b[43m,\u001b[49m\n\u001b[1;32m     28\u001b[0m \u001b[43m        \u001b[49m\u001b[43msources\u001b[49m\u001b[38;5;241;43m=\u001b[39;49m\u001b[43m[\u001b[49m\u001b[38;5;124;43m'\u001b[39;49m\u001b[38;5;124;43mfiltered_lrelu.cpp\u001b[39;49m\u001b[38;5;124;43m'\u001b[39;49m\u001b[43m,\u001b[49m\u001b[43m \u001b[49m\u001b[38;5;124;43m'\u001b[39;49m\u001b[38;5;124;43mfiltered_lrelu_wr.cu\u001b[39;49m\u001b[38;5;124;43m'\u001b[39;49m\u001b[43m,\u001b[49m\u001b[43m \u001b[49m\u001b[38;5;124;43m'\u001b[39;49m\u001b[38;5;124;43mfiltered_lrelu_rd.cu\u001b[39;49m\u001b[38;5;124;43m'\u001b[39;49m\u001b[43m,\u001b[49m\u001b[43m \u001b[49m\u001b[38;5;124;43m'\u001b[39;49m\u001b[38;5;124;43mfiltered_lrelu_ns.cu\u001b[39;49m\u001b[38;5;124;43m'\u001b[39;49m\u001b[43m]\u001b[49m\u001b[43m,\u001b[49m\n\u001b[1;32m     29\u001b[0m \u001b[43m        \u001b[49m\u001b[43mheaders\u001b[49m\u001b[38;5;241;43m=\u001b[39;49m\u001b[43m[\u001b[49m\u001b[38;5;124;43m'\u001b[39;49m\u001b[38;5;124;43mfiltered_lrelu.h\u001b[39;49m\u001b[38;5;124;43m'\u001b[39;49m\u001b[43m,\u001b[49m\u001b[43m \u001b[49m\u001b[38;5;124;43m'\u001b[39;49m\u001b[38;5;124;43mfiltered_lrelu.cu\u001b[39;49m\u001b[38;5;124;43m'\u001b[39;49m\u001b[43m]\u001b[49m\u001b[43m,\u001b[49m\n\u001b[1;32m     30\u001b[0m \u001b[43m        \u001b[49m\u001b[43msource_dir\u001b[49m\u001b[38;5;241;43m=\u001b[39;49m\u001b[43mos\u001b[49m\u001b[38;5;241;43m.\u001b[39;49m\u001b[43mpath\u001b[49m\u001b[38;5;241;43m.\u001b[39;49m\u001b[43mdirname\u001b[49m\u001b[43m(\u001b[49m\u001b[38;5;18;43m__file__\u001b[39;49m\u001b[43m)\u001b[49m\u001b[43m,\u001b[49m\n\u001b[1;32m     31\u001b[0m \u001b[43m        \u001b[49m\u001b[43mextra_cuda_cflags\u001b[49m\u001b[38;5;241;43m=\u001b[39;49m\u001b[43m[\u001b[49m\u001b[38;5;124;43m'\u001b[39;49m\u001b[38;5;124;43m--use_fast_math\u001b[39;49m\u001b[38;5;124;43m'\u001b[39;49m\u001b[43m,\u001b[49m\u001b[43m \u001b[49m\u001b[38;5;124;43m'\u001b[39;49m\u001b[38;5;124;43m--allow-unsupported-compiler\u001b[39;49m\u001b[38;5;124;43m'\u001b[39;49m\u001b[43m]\u001b[49m\u001b[43m,\u001b[49m\n\u001b[1;32m     32\u001b[0m \u001b[43m    \u001b[49m\u001b[43m)\u001b[49m\n\u001b[1;32m     33\u001b[0m \u001b[38;5;28;01mreturn\u001b[39;00m \u001b[38;5;28;01mTrue\u001b[39;00m\n",
      "File \u001b[0;32m~/ConvolutionalNeuralOperator/torch_utils/custom_ops.py:136\u001b[0m, in \u001b[0;36mget_plugin\u001b[0;34m(module_name, sources, headers, source_dir, **build_kwargs)\u001b[0m\n\u001b[1;32m    134\u001b[0m     \u001b[38;5;66;03m# Compile.\u001b[39;00m\n\u001b[1;32m    135\u001b[0m     cached_sources \u001b[38;5;241m=\u001b[39m [os\u001b[38;5;241m.\u001b[39mpath\u001b[38;5;241m.\u001b[39mjoin(cached_build_dir, os\u001b[38;5;241m.\u001b[39mpath\u001b[38;5;241m.\u001b[39mbasename(fname)) \u001b[38;5;28;01mfor\u001b[39;00m fname \u001b[38;5;129;01min\u001b[39;00m sources]\n\u001b[0;32m--> 136\u001b[0m     \u001b[43mtorch\u001b[49m\u001b[38;5;241;43m.\u001b[39;49m\u001b[43mutils\u001b[49m\u001b[38;5;241;43m.\u001b[39;49m\u001b[43mcpp_extension\u001b[49m\u001b[38;5;241;43m.\u001b[39;49m\u001b[43mload\u001b[49m\u001b[43m(\u001b[49m\u001b[43mname\u001b[49m\u001b[38;5;241;43m=\u001b[39;49m\u001b[43mmodule_name\u001b[49m\u001b[43m,\u001b[49m\u001b[43m \u001b[49m\u001b[43mbuild_directory\u001b[49m\u001b[38;5;241;43m=\u001b[39;49m\u001b[43mcached_build_dir\u001b[49m\u001b[43m,\u001b[49m\n\u001b[1;32m    137\u001b[0m \u001b[43m        \u001b[49m\u001b[43mverbose\u001b[49m\u001b[38;5;241;43m=\u001b[39;49m\u001b[43mverbose_build\u001b[49m\u001b[43m,\u001b[49m\u001b[43m \u001b[49m\u001b[43msources\u001b[49m\u001b[38;5;241;43m=\u001b[39;49m\u001b[43mcached_sources\u001b[49m\u001b[43m,\u001b[49m\u001b[43m \u001b[49m\u001b[38;5;241;43m*\u001b[39;49m\u001b[38;5;241;43m*\u001b[39;49m\u001b[43mbuild_kwargs\u001b[49m\u001b[43m)\u001b[49m\n\u001b[1;32m    138\u001b[0m \u001b[38;5;28;01melse\u001b[39;00m:\n\u001b[1;32m    139\u001b[0m     torch\u001b[38;5;241m.\u001b[39mutils\u001b[38;5;241m.\u001b[39mcpp_extension\u001b[38;5;241m.\u001b[39mload(name\u001b[38;5;241m=\u001b[39mmodule_name, verbose\u001b[38;5;241m=\u001b[39mverbose_build, sources\u001b[38;5;241m=\u001b[39msources, \u001b[38;5;241m*\u001b[39m\u001b[38;5;241m*\u001b[39mbuild_kwargs)\n",
      "File \u001b[0;32m~/.local/lib/python3.10/site-packages/torch/utils/cpp_extension.py:1202\u001b[0m, in \u001b[0;36mload\u001b[0;34m(name, sources, extra_cflags, extra_cuda_cflags, extra_ldflags, extra_include_paths, build_directory, verbose, with_cuda, is_python_module, is_standalone, keep_intermediates)\u001b[0m\n\u001b[1;32m   1111\u001b[0m \u001b[38;5;28;01mdef\u001b[39;00m \u001b[38;5;21mload\u001b[39m(name,\n\u001b[1;32m   1112\u001b[0m          sources: Union[\u001b[38;5;28mstr\u001b[39m, List[\u001b[38;5;28mstr\u001b[39m]],\n\u001b[1;32m   1113\u001b[0m          extra_cflags\u001b[38;5;241m=\u001b[39m\u001b[38;5;28;01mNone\u001b[39;00m,\n\u001b[0;32m   (...)\u001b[0m\n\u001b[1;32m   1121\u001b[0m          is_standalone\u001b[38;5;241m=\u001b[39m\u001b[38;5;28;01mFalse\u001b[39;00m,\n\u001b[1;32m   1122\u001b[0m          keep_intermediates\u001b[38;5;241m=\u001b[39m\u001b[38;5;28;01mTrue\u001b[39;00m):\n\u001b[1;32m   1123\u001b[0m \u001b[38;5;250m    \u001b[39m\u001b[38;5;124mr\u001b[39m\u001b[38;5;124;03m'''\u001b[39;00m\n\u001b[1;32m   1124\u001b[0m \u001b[38;5;124;03m    Loads a PyTorch C++ extension just-in-time (JIT).\u001b[39;00m\n\u001b[1;32m   1125\u001b[0m \n\u001b[0;32m   (...)\u001b[0m\n\u001b[1;32m   1200\u001b[0m \u001b[38;5;124;03m                verbose=True)\u001b[39;00m\n\u001b[1;32m   1201\u001b[0m \u001b[38;5;124;03m    '''\u001b[39;00m\n\u001b[0;32m-> 1202\u001b[0m     \u001b[38;5;28;01mreturn\u001b[39;00m \u001b[43m_jit_compile\u001b[49m\u001b[43m(\u001b[49m\n\u001b[1;32m   1203\u001b[0m \u001b[43m        \u001b[49m\u001b[43mname\u001b[49m\u001b[43m,\u001b[49m\n\u001b[1;32m   1204\u001b[0m \u001b[43m        \u001b[49m\u001b[43m[\u001b[49m\u001b[43msources\u001b[49m\u001b[43m]\u001b[49m\u001b[43m \u001b[49m\u001b[38;5;28;43;01mif\u001b[39;49;00m\u001b[43m \u001b[49m\u001b[38;5;28;43misinstance\u001b[39;49m\u001b[43m(\u001b[49m\u001b[43msources\u001b[49m\u001b[43m,\u001b[49m\u001b[43m \u001b[49m\u001b[38;5;28;43mstr\u001b[39;49m\u001b[43m)\u001b[49m\u001b[43m \u001b[49m\u001b[38;5;28;43;01melse\u001b[39;49;00m\u001b[43m \u001b[49m\u001b[43msources\u001b[49m\u001b[43m,\u001b[49m\n\u001b[1;32m   1205\u001b[0m \u001b[43m        \u001b[49m\u001b[43mextra_cflags\u001b[49m\u001b[43m,\u001b[49m\n\u001b[1;32m   1206\u001b[0m \u001b[43m        \u001b[49m\u001b[43mextra_cuda_cflags\u001b[49m\u001b[43m,\u001b[49m\n\u001b[1;32m   1207\u001b[0m \u001b[43m        \u001b[49m\u001b[43mextra_ldflags\u001b[49m\u001b[43m,\u001b[49m\n\u001b[1;32m   1208\u001b[0m \u001b[43m        \u001b[49m\u001b[43mextra_include_paths\u001b[49m\u001b[43m,\u001b[49m\n\u001b[1;32m   1209\u001b[0m \u001b[43m        \u001b[49m\u001b[43mbuild_directory\u001b[49m\u001b[43m \u001b[49m\u001b[38;5;129;43;01mor\u001b[39;49;00m\u001b[43m \u001b[49m\u001b[43m_get_build_directory\u001b[49m\u001b[43m(\u001b[49m\u001b[43mname\u001b[49m\u001b[43m,\u001b[49m\u001b[43m \u001b[49m\u001b[43mverbose\u001b[49m\u001b[43m)\u001b[49m\u001b[43m,\u001b[49m\n\u001b[1;32m   1210\u001b[0m \u001b[43m        \u001b[49m\u001b[43mverbose\u001b[49m\u001b[43m,\u001b[49m\n\u001b[1;32m   1211\u001b[0m \u001b[43m        \u001b[49m\u001b[43mwith_cuda\u001b[49m\u001b[43m,\u001b[49m\n\u001b[1;32m   1212\u001b[0m \u001b[43m        \u001b[49m\u001b[43mis_python_module\u001b[49m\u001b[43m,\u001b[49m\n\u001b[1;32m   1213\u001b[0m \u001b[43m        \u001b[49m\u001b[43mis_standalone\u001b[49m\u001b[43m,\u001b[49m\n\u001b[1;32m   1214\u001b[0m \u001b[43m        \u001b[49m\u001b[43mkeep_intermediates\u001b[49m\u001b[38;5;241;43m=\u001b[39;49m\u001b[43mkeep_intermediates\u001b[49m\u001b[43m)\u001b[49m\n",
      "File \u001b[0;32m~/.local/lib/python3.10/site-packages/torch/utils/cpp_extension.py:1450\u001b[0m, in \u001b[0;36m_jit_compile\u001b[0;34m(name, sources, extra_cflags, extra_cuda_cflags, extra_ldflags, extra_include_paths, build_directory, verbose, with_cuda, is_python_module, is_standalone, keep_intermediates)\u001b[0m\n\u001b[1;32m   1447\u001b[0m \u001b[38;5;28;01mif\u001b[39;00m is_standalone:\n\u001b[1;32m   1448\u001b[0m     \u001b[38;5;28;01mreturn\u001b[39;00m _get_exec_path(name, build_directory)\n\u001b[0;32m-> 1450\u001b[0m \u001b[38;5;28;01mreturn\u001b[39;00m \u001b[43m_import_module_from_library\u001b[49m\u001b[43m(\u001b[49m\u001b[43mname\u001b[49m\u001b[43m,\u001b[49m\u001b[43m \u001b[49m\u001b[43mbuild_directory\u001b[49m\u001b[43m,\u001b[49m\u001b[43m \u001b[49m\u001b[43mis_python_module\u001b[49m\u001b[43m)\u001b[49m\n",
      "File \u001b[0;32m~/.local/lib/python3.10/site-packages/torch/utils/cpp_extension.py:1844\u001b[0m, in \u001b[0;36m_import_module_from_library\u001b[0;34m(module_name, path, is_python_module)\u001b[0m\n\u001b[1;32m   1842\u001b[0m spec \u001b[38;5;241m=\u001b[39m importlib\u001b[38;5;241m.\u001b[39mutil\u001b[38;5;241m.\u001b[39mspec_from_file_location(module_name, filepath)\n\u001b[1;32m   1843\u001b[0m \u001b[38;5;28;01massert\u001b[39;00m spec \u001b[38;5;129;01mis\u001b[39;00m \u001b[38;5;129;01mnot\u001b[39;00m \u001b[38;5;28;01mNone\u001b[39;00m\n\u001b[0;32m-> 1844\u001b[0m module \u001b[38;5;241m=\u001b[39m \u001b[43mimportlib\u001b[49m\u001b[38;5;241;43m.\u001b[39;49m\u001b[43mutil\u001b[49m\u001b[38;5;241;43m.\u001b[39;49m\u001b[43mmodule_from_spec\u001b[49m\u001b[43m(\u001b[49m\u001b[43mspec\u001b[49m\u001b[43m)\u001b[49m\n\u001b[1;32m   1845\u001b[0m \u001b[38;5;28;01massert\u001b[39;00m \u001b[38;5;28misinstance\u001b[39m(spec\u001b[38;5;241m.\u001b[39mloader, importlib\u001b[38;5;241m.\u001b[39mabc\u001b[38;5;241m.\u001b[39mLoader)\n\u001b[1;32m   1846\u001b[0m spec\u001b[38;5;241m.\u001b[39mloader\u001b[38;5;241m.\u001b[39mexec_module(module)\n",
      "File \u001b[0;32m<frozen importlib._bootstrap>:571\u001b[0m, in \u001b[0;36mmodule_from_spec\u001b[0;34m(spec)\u001b[0m\n",
      "File \u001b[0;32m<frozen importlib._bootstrap_external>:1176\u001b[0m, in \u001b[0;36mcreate_module\u001b[0;34m(self, spec)\u001b[0m\n",
      "File \u001b[0;32m<frozen importlib._bootstrap>:241\u001b[0m, in \u001b[0;36m_call_with_frames_removed\u001b[0;34m(f, *args, **kwds)\u001b[0m\n",
      "\u001b[0;31mImportError\u001b[0m: /cluster/home/jaking/.cache/torch_extensions/py310_cu102/filtered_lrelu_plugin/2e9606d7cf844ec44b9f500eaacd35c0-quadro-rtx-6000/filtered_lrelu_plugin.so: cannot open shared object file: No such file or directory"
     ]
    }
   ],
   "source": [
    "from tqdm import tqdm\n",
    "#-----------------------------------Train--------------------------------------\n",
    "model = example.model\n",
    "n_params = model.print_size()\n",
    "train_loader = example.train_loader #TRAIN LOADER\n",
    "val_loader = example.val_loader #VALIDATION LOADER\n",
    "\n",
    "optimizer = torch.optim.AdamW(model.parameters(), lr=learning_rate, weight_decay=weight_decay)\n",
    "scheduler = torch.optim.lr_scheduler.StepLR(optimizer, step_size=scheduler_step, gamma=scheduler_gamma)\n",
    "freq_print = 1\n",
    "\n",
    "if p == 1:\n",
    "    loss = torch.nn.L1Loss()\n",
    "elif p == 2:\n",
    "    loss = torch.nn.MSELoss()\n",
    "    \n",
    "best_model_testing_error = 1000 #Save the model once it has less than 1000% relative L1 error\n",
    "patience = int(0.2 * epochs)    # Early stopping parameter\n",
    "counter = 0\n",
    "\n",
    "if str(device) == 'cpu':\n",
    "    print(\"------------------------------------------\")\n",
    "    print(\"YOU ARE RUNNING THE CODE ON A CPU.\")\n",
    "    print(\"WE SUGGEST YOU TO RUN THE CODE ON A GPU!\")\n",
    "    print(\"------------------------------------------\")\n",
    "    print(\" \")\n",
    "\n",
    "\n",
    "for epoch in range(epochs):\n",
    "    with tqdm(unit=\"batch\", disable=False) as tepoch:\n",
    "        \n",
    "        model.train()\n",
    "        tepoch.set_description(f\"Epoch {epoch}\")\n",
    "        train_mse = 0.0\n",
    "        running_relative_train_mse = 0.0\n",
    "        for step, (input_batch, output_batch) in enumerate(train_loader):\n",
    "            optimizer.zero_grad()\n",
    "            input_batch = input_batch.to(device)\n",
    "            output_batch = output_batch.to(device)\n",
    "\n",
    "            output_pred_batch = model(input_batch)\n",
    "\n",
    "            if which_example == \"airfoil\": #Mask the airfoil shape\n",
    "                output_pred_batch[input_batch==1] = 1\n",
    "                output_batch[input_batch==1] = 1\n",
    "\n",
    "            loss_f = loss(output_pred_batch, output_batch) / loss(torch.zeros_like(output_batch).to(device), output_batch)\n",
    "\n",
    "            loss_f.backward()\n",
    "            optimizer.step()\n",
    "            train_mse = train_mse * step / (step + 1) + loss_f.item() / (step + 1)\n",
    "            tepoch.set_postfix({'Batch': step + 1, 'Train loss (in progress)': train_mse})\n",
    "\n",
    "        writer.add_scalar(\"train_loss/train_loss\", train_mse, epoch)\n",
    "        \n",
    "        with torch.no_grad():\n",
    "            model.eval()\n",
    "            test_relative_l2 = 0.0\n",
    "            train_relative_l2 = 0.0\n",
    "            \n",
    "            for step, (input_batch, output_batch) in enumerate(val_loader):\n",
    "                \n",
    "                input_batch = input_batch.to(device)\n",
    "                output_batch = output_batch.to(device)\n",
    "                output_pred_batch = model(input_batch)\n",
    "                \n",
    "                if which_example == \"airfoil\": #Mask the airfoil shape\n",
    "                    output_pred_batch[input_batch==1] = 1\n",
    "                    output_batch[input_batch==1] = 1\n",
    "                \n",
    "                loss_f = torch.mean(abs(output_pred_batch - output_batch)) / torch.mean(abs(output_batch)) * 100\n",
    "                test_relative_l2 += loss_f.item()\n",
    "            test_relative_l2 /= len(val_loader)\n",
    "\n",
    "            for step, (input_batch, output_batch) in enumerate(train_loader):\n",
    "                input_batch = input_batch.to(device)\n",
    "                output_batch = output_batch.to(device)\n",
    "                output_pred_batch = model(input_batch)\n",
    "                    \n",
    "                if which_example == \"airfoil\": #Mask the airfoil shape\n",
    "                    output_pred_batch[input_batch==1] = 1\n",
    "                    output_batch[input_batch==1] = 1\n",
    "\n",
    "                    loss_f = torch.mean(abs(output_pred_batch - output_batch)) / torch.mean(abs(output_batch)) * 100\n",
    "                    train_relative_l2 += loss_f.item()\n",
    "            train_relative_l2 /= len(train_loader)\n",
    "            \n",
    "            writer.add_scalar(\"train_loss/train_loss_rel\", train_relative_l2, epoch)\n",
    "            writer.add_scalar(\"val_loss/val_loss\", test_relative_l2, epoch)\n",
    "\n",
    "            if test_relative_l2 < best_model_testing_error:\n",
    "                best_model_testing_error = test_relative_l2\n",
    "                best_model = copy.deepcopy(model)\n",
    "                torch.save(best_model, folder + \"/model.pkl\")\n",
    "                writer.add_scalar(\"val_loss/Best Relative Testing Error\", best_model_testing_error, epoch)\n",
    "                counter = 0\n",
    "            else:\n",
    "                counter+=1\n",
    "\n",
    "        tepoch.set_postfix({'Train loss': train_mse, \"Relative Train\": train_relative_l2, \"Relative Val loss\": test_relative_l2})\n",
    "        tepoch.close()\n",
    "\n",
    "        with open(folder + '/errors.txt', 'w') as file:\n",
    "            file.write(\"Training Error: \" + str(train_mse) + \"\\n\")\n",
    "            file.write(\"Best Testing Error: \" + str(best_model_testing_error) + \"\\n\")\n",
    "            file.write(\"Current Epoch: \" + str(epoch) + \"\\n\")\n",
    "            file.write(\"Params: \" + str(n_params) + \"\\n\")\n",
    "        scheduler.step()\n",
    "\n",
    "    if counter>patience:\n",
    "        print(\"Early Stopping\")\n",
    "        break\n"
   ]
  },
  {
   "cell_type": "code",
   "execution_count": 1,
   "id": "c019b8b3-4a1a-4cd0-a8d6-772f3b2cb009",
   "metadata": {},
   "outputs": [
    {
     "name": "stdout",
     "output_type": "stream",
     "text": [
      "torch.Size([128, 128])\n"
     ]
    }
   ],
   "source": [
    "import torch\n",
    "import torch.nn.functional as F\n",
    "\n",
    "def resize_and_downsample(u, original_shape=(512, 128), target_shape=(128, 128)):\n",
    "    \"\"\"\n",
    "    Resize and downsample the input tensor to a new shape using bilinear interpolation.\n",
    "    Args:\n",
    "    - u (torch.Tensor): The input tensor to be resized. Expected to have shape (H, W).\n",
    "    - original_shape (tuple): The original shape of the input tensor (H, W).\n",
    "    - target_shape (tuple): The desired shape (H, W) after resizing.\n",
    "    Returns:\n",
    "    - torch.Tensor: The resized tensor with shape (1, H, W) where 1 is the channel dimension.\n",
    "    \"\"\"\n",
    "    # Ensure the input tensor is a float tensor (required for interpolate)\n",
    "    if not u.is_floating_point():\n",
    "        u = u.float()\n",
    "    \n",
    "    # Reshape the input to add a channel dimension (C=1)\n",
    "    if u.dim() == 2:\n",
    "        u = u.unsqueeze(0).unsqueeze(0)  # Add batch and channel dimensions\n",
    "    elif u.dim() == 3:\n",
    "        u = u.unsqueeze(1)  # Add a channel dimension\n",
    "\n",
    "    # Use interpolate to resize\n",
    "    resized_u = F.interpolate(u, size=target_shape, mode='bilinear', align_corners=False)\n",
    "\n",
    "    # Remove batch and channel dimensions for output\n",
    "    resized_u = resized_u.squeeze(0).squeeze(0)\n",
    "    \n",
    "    return resized_u\n",
    "\n",
    "# Example usage\n",
    "inputs = torch.rand(512, 128)  # Example input tensor\n",
    "resized_inputs = resize_and_downsample(inputs)\n",
    "print(resized_inputs.shape)  # Should print torch.Size([128, 128])"
   ]
  },
  {
   "cell_type": "code",
   "execution_count": null,
   "id": "c4f92b19-afd9-43f0-bc6b-224c39401ec9",
   "metadata": {},
   "outputs": [],
   "source": []
  }
 ],
 "metadata": {
  "kernelspec": {
   "display_name": "Python 3 (ipykernel)",
   "language": "python",
   "name": "python3"
  },
  "language_info": {
   "codemirror_mode": {
    "name": "ipython",
    "version": 3
   },
   "file_extension": ".py",
   "mimetype": "text/x-python",
   "name": "python",
   "nbconvert_exporter": "python",
   "pygments_lexer": "ipython3",
   "version": "3.10.4"
  }
 },
 "nbformat": 4,
 "nbformat_minor": 5
}
